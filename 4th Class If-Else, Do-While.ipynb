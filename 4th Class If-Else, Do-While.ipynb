{
 "cells": [
  {
   "cell_type": "code",
   "execution_count": 3,
   "id": "93bc614e",
   "metadata": {},
   "outputs": [
    {
     "name": "stdout",
     "output_type": "stream",
     "text": [
      "The Zen of Python, by Tim Peters\n",
      "\n",
      "Beautiful is better than ugly.\n",
      "Explicit is better than implicit.\n",
      "Simple is better than complex.\n",
      "Complex is better than complicated.\n",
      "Flat is better than nested.\n",
      "Sparse is better than dense.\n",
      "Readability counts.\n",
      "Special cases aren't special enough to break the rules.\n",
      "Although practicality beats purity.\n",
      "Errors should never pass silently.\n",
      "Unless explicitly silenced.\n",
      "In the face of ambiguity, refuse the temptation to guess.\n",
      "There should be one-- and preferably only one --obvious way to do it.\n",
      "Although that way may not be obvious at first unless you're Dutch.\n",
      "Now is better than never.\n",
      "Although never is often better than *right* now.\n",
      "If the implementation is hard to explain, it's a bad idea.\n",
      "If the implementation is easy to explain, it may be a good idea.\n",
      "Namespaces are one honking great idea -- let's do more of those!\n"
     ]
    }
   ],
   "source": [
    "import this"
   ]
  },
  {
   "cell_type": "code",
   "execution_count": 4,
   "id": "9273762a",
   "metadata": {},
   "outputs": [],
   "source": [
    "a=10"
   ]
  },
  {
   "cell_type": "code",
   "execution_count": 32,
   "id": "db468b99",
   "metadata": {},
   "outputs": [
    {
     "name": "stdout",
     "output_type": "stream",
     "text": [
      "chal nikal\n"
     ]
    }
   ],
   "source": [
    "if a > 15:\n",
    "    print(\"aur bhai\")\n",
    "else:    \n",
    "    print"
   ]
  },
  {
   "cell_type": "code",
   "execution_count": 9,
   "id": "decdf631",
   "metadata": {},
   "outputs": [
    {
     "name": "stdout",
     "output_type": "stream",
     "text": [
      "my name is rj\n"
     ]
    }
   ],
   "source": [
    "if 24>10 :\n",
    "    print(\"my name is rj\")"
   ]
  },
  {
   "cell_type": "code",
   "execution_count": 10,
   "id": "c5366b95",
   "metadata": {},
   "outputs": [
    {
     "data": {
      "text/plain": [
       "int"
      ]
     },
     "execution_count": 10,
     "metadata": {},
     "output_type": "execute_result"
    }
   ],
   "source": [
    "type(a)"
   ]
  },
  {
   "cell_type": "code",
   "execution_count": 18,
   "id": "0f05dfc9",
   "metadata": {},
   "outputs": [
    {
     "name": "stdout",
     "output_type": "stream",
     "text": [
      "wrong number bro\n"
     ]
    }
   ],
   "source": [
    "if 24<10 :\n",
    "    print(\"my name is rj\")\n",
    "else:\n",
    "    print (\"wrong number bro\")"
   ]
  },
  {
   "cell_type": "code",
   "execution_count": 26,
   "id": "71f86788",
   "metadata": {},
   "outputs": [
    {
     "name": "stdout",
     "output_type": "stream",
     "text": [
      "110\n",
      "bhakk\n"
     ]
    }
   ],
   "source": [
    "income = int(input())\n",
    "if income<50:\n",
    "    print(\"Hi\")\n",
    "elif income<70:\n",
    "    print(\"hello\")\n",
    "elif income<90:\n",
    "    print(\"bro\")\n",
    "else:\n",
    "    print(\"bhakk\")"
   ]
  },
  {
   "cell_type": "code",
   "execution_count": 27,
   "id": "6834c96b",
   "metadata": {},
   "outputs": [],
   "source": [
    "a=10"
   ]
  },
  {
   "cell_type": "code",
   "execution_count": 30,
   "id": "86b0d07d",
   "metadata": {},
   "outputs": [
    {
     "name": "stdout",
     "output_type": "stream",
     "text": [
      "true\n"
     ]
    }
   ],
   "source": [
    "if a<15:\n",
    "    print(\"true\")"
   ]
  },
  {
   "cell_type": "markdown",
   "id": "46d03c57",
   "metadata": {},
   "source": [
    "Total_price=int(input())\n",
    "if Total_price>20000:\n",
    "    discount=Total_price*0.2\n",
    "    print(\"Discount is 20%\", discount)\n",
    "    \n",
    "elif Total_price>5000 and Total_price<10000: \n",
    "    discount=Total_price*0.1\n",
    "    print(\"Discount is 10%\", discount)\n",
    "    \n",
    "else:\n",
    "    print(\"No Discount Available\")    "
   ]
  },
  {
   "cell_type": "code",
   "execution_count": 48,
   "id": "be108107",
   "metadata": {},
   "outputs": [
    {
     "name": "stdout",
     "output_type": "stream",
     "text": [
      "20000\n",
      "Discount is 15% 3000.0\n"
     ]
    }
   ],
   "source": [
    "Total_price=int(input()) \n",
    "if Total_price>20000: \n",
    "    discount=Total_price*0.2 \n",
    "    print(\"Discount is 20%\", discount)\n",
    "    \n",
    "elif Total_price>10000 and Total_price<=20000:\n",
    "    discount=Total_price*0.15\n",
    "    print(\"Discount is 15%\",discount)\n",
    "\n",
    "elif Total_price>=5000 and Total_price<10000: \n",
    "    discount=Total_price*0.1 \n",
    "    print(\"Discount is 10%\", discount)\n",
    "\n",
    "else: \n",
    "    print(\"No Discount Available\")"
   ]
  },
  {
   "cell_type": "code",
   "execution_count": 66,
   "id": "cbdcf7e0",
   "metadata": {},
   "outputs": [
    {
     "name": "stdout",
     "output_type": "stream",
     "text": [
      "0.2\n",
      "It will take 8 months to make transition\n"
     ]
    }
   ],
   "source": [
    "Study_hour=float(input())\n",
    "if Study_hour<2:   print(\"It will take 8 months to make transition\")\n",
    "elif Study_hour>=2 and Study_hour<5: print(\"It will take only 5 months to make transition\")\n",
    "elif Study_hour>=5: print(\"Do mahine me lag jaayegi bro\")    \n",
    "else:                                print(\"Bhul jaa bhai\")"
   ]
  },
  {
   "cell_type": "code",
   "execution_count": 71,
   "id": "73defc96",
   "metadata": {},
   "outputs": [
    {
     "name": "stdout",
     "output_type": "stream",
     "text": [
      "1\n",
      "2\n",
      "3\n",
      "4\n",
      "5\n",
      "6\n",
      "7\n",
      "8\n",
      "9\n"
     ]
    }
   ],
   "source": [
    "l=[1,2,3,4,5,6,7,8,9]\n",
    "for i in l:\n",
    "    print(i)"
   ]
  },
  {
   "cell_type": "code",
   "execution_count": 72,
   "id": "995ad9ca",
   "metadata": {},
   "outputs": [],
   "source": [
    "l=[1,2,3,[23,45,67],\"Abc\"]"
   ]
  },
  {
   "cell_type": "code",
   "execution_count": 81,
   "id": "36bd998e",
   "metadata": {},
   "outputs": [
    {
     "name": "stdout",
     "output_type": "stream",
     "text": [
      "Type is str  Abc\n"
     ]
    }
   ],
   "source": [
    "for i in l:\n",
    "    if type(i) == str:\n",
    "        print(\"Type is str \",i)"
   ]
  },
  {
   "cell_type": "code",
   "execution_count": 95,
   "id": "9087ff13",
   "metadata": {},
   "outputs": [],
   "source": [
    "l=[2,45,78,12,12,12,\"sudh\",6+7j,[56,67,78,\"ssljknln\"]]"
   ]
  },
  {
   "cell_type": "code",
   "execution_count": 88,
   "id": "ee620c97",
   "metadata": {},
   "outputs": [
    {
     "data": {
      "text/plain": [
       "range(0, 9)"
      ]
     },
     "execution_count": 88,
     "metadata": {},
     "output_type": "execute_result"
    }
   ],
   "source": [
    "range(9)"
   ]
  },
  {
   "cell_type": "code",
   "execution_count": 96,
   "id": "e366ca21",
   "metadata": {},
   "outputs": [
    {
     "name": "stdout",
     "output_type": "stream",
     "text": [
      "Index of 0 is 2\n",
      "Index of 1 is 45\n",
      "Index of 2 is 78\n",
      "Index of 3 is 12\n",
      "Index of 4 is 12\n",
      "Index of 5 is 12\n",
      "Index of 6 is sudh\n",
      "Index of 7 is (6+7j)\n",
      "Index of 8 is [56, 67, 78, 'ssljknln']\n"
     ]
    }
   ],
   "source": [
    "for i in range (len(l)):\n",
    "    print(\"Index of\",i,\"is\",l[i])"
   ]
  },
  {
   "cell_type": "code",
   "execution_count": 93,
   "id": "41ae5665",
   "metadata": {},
   "outputs": [
    {
     "data": {
      "text/plain": [
       "7"
      ]
     },
     "execution_count": 93,
     "metadata": {},
     "output_type": "execute_result"
    }
   ],
   "source": [
    "len(l)"
   ]
  },
  {
   "cell_type": "code",
   "execution_count": 108,
   "id": "fdc29b8b",
   "metadata": {},
   "outputs": [
    {
     "ename": "NameError",
     "evalue": "name 'append' is not defined",
     "output_type": "error",
     "traceback": [
      "\u001b[0;31m---------------------------------------------------------------------------\u001b[0m",
      "\u001b[0;31mNameError\u001b[0m                                 Traceback (most recent call last)",
      "\u001b[0;32m/var/folders/nw/fmvkm1xd1rn_krxmllzq6b100000gn/T/ipykernel_68082/2520089242.py\u001b[0m in \u001b[0;36m<module>\u001b[0;34m\u001b[0m\n\u001b[1;32m      1\u001b[0m \u001b[0;32mfor\u001b[0m \u001b[0mi\u001b[0m \u001b[0;32min\u001b[0m \u001b[0ml\u001b[0m\u001b[0;34m:\u001b[0m\u001b[0;34m\u001b[0m\u001b[0;34m\u001b[0m\u001b[0m\n\u001b[1;32m      2\u001b[0m     \u001b[0;32mif\u001b[0m \u001b[0mtype\u001b[0m\u001b[0;34m(\u001b[0m\u001b[0mi\u001b[0m\u001b[0;34m)\u001b[0m\u001b[0;34m==\u001b[0m\u001b[0mstr\u001b[0m\u001b[0;34m:\u001b[0m\u001b[0;34m\u001b[0m\u001b[0;34m\u001b[0m\u001b[0m\n\u001b[0;32m----> 3\u001b[0;31m         \u001b[0mappend\u001b[0m\u001b[0;34m(\u001b[0m\u001b[0mi\u001b[0m\u001b[0;34m)\u001b[0m\u001b[0;34m\u001b[0m\u001b[0;34m\u001b[0m\u001b[0m\n\u001b[0m\u001b[1;32m      4\u001b[0m         \u001b[0mprint\u001b[0m\u001b[0;34m(\u001b[0m\u001b[0;34m\"List is\"\u001b[0m\u001b[0;34m,\u001b[0m\u001b[0mi\u001b[0m\u001b[0;34m)\u001b[0m\u001b[0;34m\u001b[0m\u001b[0;34m\u001b[0m\u001b[0m\n",
      "\u001b[0;31mNameError\u001b[0m: name 'append' is not defined"
     ]
    }
   ],
   "source": [
    "for i in l:\n",
    "    if type(i)==str: \n",
    "        print(\"List is\",i)"
   ]
  },
  {
   "cell_type": "code",
   "execution_count": 113,
   "id": "d7f64d87",
   "metadata": {},
   "outputs": [],
   "source": [
    "l2=[]\n",
    "for i in l:\n",
    "    if type(i)==int:\n",
    "        l2.append(i**2)"
   ]
  },
  {
   "cell_type": "code",
   "execution_count": 112,
   "id": "1cf56706",
   "metadata": {},
   "outputs": [
    {
     "data": {
      "text/plain": [
       "[4, 90, 156, 24, 24, 24]"
      ]
     },
     "execution_count": 112,
     "metadata": {},
     "output_type": "execute_result"
    }
   ],
   "source": [
    "l2"
   ]
  },
  {
   "cell_type": "code",
   "execution_count": 114,
   "id": "ee9248e8",
   "metadata": {},
   "outputs": [
    {
     "data": {
      "text/plain": [
       "[4, 2025, 6084, 144, 144, 144]"
      ]
     },
     "execution_count": 114,
     "metadata": {},
     "output_type": "execute_result"
    }
   ],
   "source": [
    "l2"
   ]
  },
  {
   "cell_type": "code",
   "execution_count": null,
   "id": "c19e31da",
   "metadata": {},
   "outputs": [],
   "source": []
  }
 ],
 "metadata": {
  "kernelspec": {
   "display_name": "Python 3 (ipykernel)",
   "language": "python",
   "name": "python3"
  },
  "language_info": {
   "codemirror_mode": {
    "name": "ipython",
    "version": 3
   },
   "file_extension": ".py",
   "mimetype": "text/x-python",
   "name": "python",
   "nbconvert_exporter": "python",
   "pygments_lexer": "ipython3",
   "version": "3.9.7"
  }
 },
 "nbformat": 4,
 "nbformat_minor": 5
}
